{
 "cells": [
  {
   "cell_type": "markdown",

   "metadata": {},
   "source": [
    "# CIS CPS Homework 01 Power Grid State Estimation\n",
    "## Introduction to Cyber-Physical Systems\n",
    "## Leomar Duran\n",
    "## 2022&ndash;02&ndash;23"
   ]
  },
  {
   "cell_type": "markdown",

   "metadata": {},
   "source": [
    "First we import the state estimation module updated from Dr. Kant's original and the Pandapower Networks module."
   ]
  },
  {
   "cell_type": "code",
   "execution_count": null,

   "metadata": {
    "scrolled": true
   },
   "outputs": [],
   "source": [
    "import state_est\n",
    "import pandapower.networks as pn # for simple_four_bus_system\n",
    "from scipy.stats import chi2\n",
    "import matplotlib.pyplot as plt  # for plotting\n",
    "import numpy as np               # for statistics\n",
    "import math"
   ]
  },
  {
   "cell_type": "markdown",

   "metadata": {},
   "source": [
    "Test running using the state estimate with all defaults."
   ]
  },
  {
   "cell_type": "code",
   "execution_count": null,

   "metadata": {
    "scrolled": true
   },
   "outputs": [
    {
     "name": "stdout",
     "output_type": "stream",
     "text": [
      "Bad data found\n",
      "Voltages: \n",
      "0    1.000000\n",
      "1    1.000000\n",
      "2    1.000000\n",
      "3    0.987007\n",
      "4    0.975472\n",
      "5    1.003375\n",
      "6    0.985645\n",
      "7    0.996185\n",
      "8    0.957621\n",
      "Name: vm_pu, dtype: float64\n",
      "\n",
      " Voltage angles:  0    0.000000\n",
      "1    9.668741\n",
      "2    4.771073\n",
      "3   -2.406644\n",
      "4   -4.017264\n",
      "5    1.925602\n",
      "6    0.621545\n",
      "7    3.799120\n",
      "8   -4.349934\n",
      "Name: va_degree, dtype: float64\n",
      "\n",
      "########################################################################################################\n",
      ">>> est_res_bus:\n",
      "  vm_pu p_mw q_mvar\n",
      "0     +    +      +\n",
      "1     +    +      +\n",
      "2     +    +      +\n",
      "3     +    +      +\n",
      "4     +    +      +\n",
      "5     +    +      +\n",
      "6     +    +      +\n",
      "7     +    +      +\n",
      "8     +    +      +\n",
      ">>> est_res_trafo:\n",
      "Empty DataFrame\n",
      "Columns: [p_hv_mw, q_hv_mvar, p_lv_mw, q_lv_mvar, i_hv_ka, i_lv_ka]\n",
      "Index: []\n",
      ">>> est_res_trafo3w:\n",
      "Empty DataFrame\n",
      "Columns: [p_hv_mw, q_hv_mvar, p_mv_mw, q_mv_mvar, p_lv_mw, q_lv_mvar, i_hv_ka, i_mv_ka, i_lv_ka]\n",
      "Index: []\n",
      ">>> est_res_line:\n",
      "  p_from_mw q_from_mvar p_to_mw q_to_mvar i_from_ka i_to_ka\n",
      "0         +           +       +         +         +       +\n",
      "1         +           +       +         +         +       +\n",
      "2         +           +       +         +         +       +\n",
      "3         +           +       +         +         +       +\n",
      "4         +           +       +         +         +       +\n",
      "5         +           +       +         +         +       +\n",
      "6         +           +       +         +         +       +\n",
      "7         +           +       +         +         +       +\n",
      "8         +           +       +         +         +       +\n",
      "Done.\n"
     ]
    }
   ],
   "source": [
    "state_est.main()"
   ]
  },
  {
   "cell_type": "markdown",

   "metadata": {},
   "source": [
    "Run using `simple_four_bus_system()` and no perturbation."
   ]
  },
  {
   "cell_type": "code",
   "execution_count": null,

   "metadata": {},
   "outputs": [
    {
     "name": "stdout",
     "output_type": "stream",
     "text": [
      "No bad data found\n",
      "Done.\n"
     ]
    }
   ],
   "source": [
    "def no_perturbation(k):\n",
    "    return 0\n",
    "# def no_perturbation(k)\n",
    "\n",
    "state_est.main(get_net=pn.simple_four_bus_system, bus_dvs_from_index=no_perturbation)"
   ]
  },
  {
   "cell_type": "markdown",

   "metadata": {},
   "source": [
    "Inject bad data into simple four bus system. In order to do this, we write a function that returns a difference of $1\\,\\mathrm{V}$ if pass an index $1$ `lambda k: 1 if k == 1 else 0` and use it to increase the voltage of bus index $V_1$."
   ]
  },
  {
   "cell_type": "markdown",

   "metadata": {},
   "source": [
    "### Part C.)"
   ]
  },
  {
   "cell_type": "code",
   "execution_count": null,

   "metadata": {},
   "outputs": [
    {
     "name": "stdout",
     "output_type": "stream",
     "text": [
      "Bad data found\n",
      "chi2_test on perturbed net2: True\n",
      "Voltages: \n",
      "0    1.000000\n",
      "1    0.996608\n",
      "2    0.937760\n",
      "3    0.902000\n",
      "Name: vm_pu, dtype: float64\n",
      "\n",
      " Voltage angles:  0      0.000000\n",
      "1   -150.208127\n",
      "2   -149.007459\n",
      "3   -148.184087\n",
      "Name: va_degree, dtype: float64\n",
      "\n",
      "########################################################################################################\n",
      ">>> est_res_bus:\n",
      "  vm_pu p_mw q_mvar\n",
      "0     +    +      +\n",
      "1     +    +      +\n",
      "2     +    +      +\n",
      "3     +    +      +\n",
      ">>> est_res_trafo:\n",
      "  p_hv_mw q_hv_mvar p_lv_mw q_lv_mvar i_hv_ka i_lv_ka\n",
      "0       +         +       +         +       +       +\n",
      ">>> est_res_trafo3w:\n",
      "Empty DataFrame\n",
      "Columns: [p_hv_mw, q_hv_mvar, p_mv_mw, q_mv_mvar, p_lv_mw, q_lv_mvar, i_hv_ka, i_mv_ka, i_lv_ka]\n",
      "Index: []\n",
      ">>> est_res_line:\n",
      "  p_from_mw q_from_mvar p_to_mw q_to_mvar i_from_ka i_to_ka\n",
      "0         +           +       +         +         +       +\n",
      "1         +           +       +         +         +       +\n",
      "Done.\n"
     ]
    }
   ],
   "source": [
    "state_est.main(get_net=pn.simple_four_bus_system,\n",
    "    bus_dvs_from_index=lambda k: 1 if k == 1 else 0, disp_chi2=True)"
   ]
  },
  {
   "cell_type": "markdown",

   "metadata": {},
   "source": [
    "As we can see from the returned voltages on bus $V_1$, the extra $1\\,\\mathrm{V}$ we added to make it about $1.96\\,\\mathrm{V}$ was removed so that it matches the other $3$ busses."
   ]
  },
  {
   "cell_type": "markdown",

   "metadata": {},
   "source": [
    "For the $\\chi^2$ test, we have $4$ busses each with $2$ variables (magnitude and phase of power or voltage). However, the last phase is redundant as it is just $\\frac{360}4^\\circ$ more than the previous and $\\frac{360}4^\\circ$ less than the initial. Thus we have $k = (4\\times2) - 1=7$ degrees of freedom. Additionally, we use the default probability of false positive for [`#chi2_analysis`](https://pandapower.readthedocs.io/en/v2.4.0/estimation.html#pandapower.estimation.chi2_analysis), `chi2_prob_false` $q = 0.05$. So $p = 1 - q = 0.95$, and the maximum allowed variance $F(0.95; 7) =$"
   ]
  },
  {
   "cell_type": "code",
   "execution_count": null,

   "metadata": {},
   "outputs": [
    {
     "data": {
      "text/plain": [
       "0.004404710360513543"
      ]
     },
     "execution_count": null,
     "metadata": {},
     "output_type": "execute_result"
    }
   ],
   "source": [
    "chi2.cdf(0.95, df=7)"
   ]
  },
  {
   "cell_type": "markdown",

   "metadata": {},
   "source": [
    "We were expecting to find data matching $\\vec{V} := \\begin{bmatrix}1 & 2 & 1 & 1\\end{bmatrix}^\\intercal$ with an average of $E[V] = 5/4$ and a variance $\\operatorname{Var}(V) = 7/4 - (5/4)^2 = 3/16 = 0.1875$. However, variance $0.1875 > 0.0044 = F(0.95; 7)$. Thus the expected values failed the $\\chi^2$ test and were removed."
   ]
  },
  {
   "cell_type": "markdown",

   "metadata": {},
   "source": [
    "Now, since the extra $1\\,\\mathrm{V}$ was removed from $V_1$, the resulting data was $\\hat{V} := \\begin{bmatrix}1.000000 & 0.996608 & 0.937760 & 0.937760\\end{bmatrix}^\\intercal$ with average $E[\\hat{V}] = 0.968032$ and variance $\\operatorname{Var}(\\hat{V}) = 0.93800378525 - (0.968032)^2 = 0.000917832(226)$, and $0.000917832 \\leq 0.00440471 = F(0.95; 7)$. Thus the resulting values do pass the $\\chi^2$ test.\n",
    "\n",
    "Moreover, for comparison to the expected values, the rates of error are $-0.225574$ for the average and $-0.930034$ for the standard deviation."
   ]
  },
  {
   "cell_type": "code",
   "execution_count": null,

   "metadata": {},
   "outputs": [
    {
     "name": "stdout",
     "output_type": "stream",
     "text": [
      "===expected===\n",
      "E\t 1.25\n",
      "Var\t 0.1875\n",
      "===result===\n",
      "E\t 0.968032\n",
      "Var\t 0.0009178321919999996\n",
      "===rate of error===\n",
      "E\t -0.2255744\n",
      "sigma\t -0.9300349728507163\n"
     ]
    }
   ],
   "source": [
    "expected = (1, 2, 1, 1)\n",
    "result = (1.000000, 0.996608, 0.937760, 0.937760)\n",
    "\n",
    "E_exp = np.mean(expected)\n",
    "E_res = np.mean(result)\n",
    "Var_exp = np.var(expected)\n",
    "Var_res = np.var(result)\n",
    "sigma_exp = math.sqrt(Var_exp)\n",
    "sigma_res = math.sqrt(Var_res)\n",
    "\n",
    "print(r'===expected===')\n",
    "print('E\\t', E_exp)\n",
    "print('Var\\t', Var_exp)\n",
    "print(r'===result===')\n",
    "print('E\\t', E_res)\n",
    "print('Var\\t', Var_res)\n",
    "print(r'===rate of error===')\n",
    "print('E\\t', (E_res - E_exp)/E_exp)\n",
    "print('sigma\\t', (sigma_res - sigma_exp)/sigma_exp)"
   ]
  },
  {
   "cell_type": "markdown",

   "metadata": {},
   "source": [
    "### Part D.)"
   ]
  },
  {
   "cell_type": "markdown",

   "metadata": {},
   "source": [
    "There exists $h$ in volts s.t.\n",
    "$$\n",
    "    F(0.95; 7) = \\frac{3(1^2) + (1 + h)^2}4 - \\left(\\frac{3(1) + (1 + h)}4\\right)^2.\n",
    "$$\n",
    "Solving for $h$ gives us the safe amount by which to perturb any bus."
   ]
  },
  {
   "cell_type": "markdown",

   "metadata": {},
   "source": [
    "Well then\n",
    "$$\n",
    "    9h^2 - 48 F(0.95; 7) = 0\n",
    "$$\n",
    "So\n",
    "$$\n",
    "    3h - 4\\sqrt{3F(0.95; 7)} = 0.\n",
    "$$\n",
    "\n",
    "We find that\n",
    "$$\n",
    "    h = 4\\sqrt{\\frac{F(0.95; 7)}3} = 0.153270(31).\n",
    "$$"
   ]
  },
  {
   "cell_type": "code",
   "execution_count": null,

   "metadata": {},
   "outputs": [
    {
     "name": "stdout",
     "output_type": "stream",
     "text": [
      "0.1532703121592879\n"
     ]
    }
   ],
   "source": [
    "h = 4*math.sqrt(3*chi2.cdf(0.95, df=7))/3\n",
    "print(h)"
   ]
  },
  {
   "cell_type": "markdown",

   "metadata": {},
   "source": [
    "Given a perturbance of $h$, then we expect $\\vec{V} := \\begin{bmatrix}1 & (1 + h) & 1 & 1\\end{bmatrix}^\\intercal$ with an average of $E[V] = 1.038318$ and a variance $\\operatorname{Var}(V) = 7/4 - (5/4)^2 = 3/16 = 0.00440471$. This variance $0.00440471 \\approx 0.00440471 = F(0.95; 7)$. We expect to pass the $\\chi^2$ test by adding $h$ to $1$ bus."
   ]
  },
  {
   "cell_type": "code",
   "execution_count": null,

   "metadata": {},
   "outputs": [
    {
     "name": "stdout",
     "output_type": "stream",
     "text": [
      "===expected===\n",
      "h\t 0.1532703121592879\n",
      "E\t 1.038317578039822\n",
      "Var\t 0.004404710360513547\n"
     ]
    }
   ],
   "source": [
    "expected2 = (1, 1+h, 1, 1)\n",
    "E_exp2 = np.mean(expected2)\n",
    "Var_exp2 = np.var(expected2)\n",
    "sigma_exp2 = math.sqrt(Var_exp2)\n",
    "\n",
    "print(r'===expected===')\n",
    "print('h\\t', h)\n",
    "print('E\\t', E_exp2)\n",
    "print('Var\\t', Var_exp2)"
   ]
  },
  {
   "cell_type": "markdown",

   "metadata": {},
   "source": [
    "Let's perturb by $h$."
   ]
  },
  {
   "cell_type": "code",
   "execution_count": null,

   "metadata": {},
   "outputs": [
    {
     "name": "stdout",
     "output_type": "stream",
     "text": [
      "perturbing by 0.1532703121592879 volts\n",
      "No bad data found\n",
      "Done.\n"
     ]
    }
   ],
   "source": [
    "def safe_perturb_bus1(k):\n",
    "    return h if k==1 else 0\n",
    "\n",
    "print('perturbing by',h,'volts')\n",
    "state_est.main(get_net=pn.simple_four_bus_system,\n",
    "    bus_dvs_from_index=safe_perturb_bus1, disp_chi2=True)"
   ]
  },
  {
   "cell_type": "markdown",

   "metadata": {},
   "source": [
    "However, attempting to perturb $2$ busses by this amount fails."
   ]
  },
  {
   "cell_type": "code",
   "execution_count": null,

   "metadata": {},
   "outputs": [
    {
     "name": "stdout",
     "output_type": "stream",
     "text": [
      "perturbing by 0.1532703121592879 volts\n",
      "Bad data found\n",
      "chi2_test on perturbed net2: True\n",
      "Voltages: \n",
      "0    1.150214\n",
      "1    1.147267\n",
      "2    1.093516\n",
      "3    1.062121\n",
      "Name: vm_pu, dtype: float64\n",
      "\n",
      " Voltage angles:  0      0.000000\n",
      "1   -150.156970\n",
      "2   -149.261501\n",
      "3   -148.660997\n",
      "Name: va_degree, dtype: float64\n",
      "\n",
      "########################################################################################################\n",
      ">>> est_res_bus:\n",
      "                vm_pu                p_mw             q_mvar\n",
      "0  -1.502e-01(15.02%)                   +                  +\n",
      "1  -1.507e-01(15.12%)                   +                  +\n",
      "2  -1.558e-01(16.61%)  -1.407e-03(14.07%)  -1.864e-04(3.73%)\n",
      "3  -1.601e-01(17.75%)   -5.446e-04(3.63%)                  +\n",
      ">>> est_res_trafo:\n",
      "  p_hv_mw q_hv_mvar p_lv_mw q_lv_mvar            i_hv_ka            i_lv_ka\n",
      "0       +         +       +         +  2.335e-04(12.92%)  5.956e-03(13.41%)\n",
      ">>> est_res_trafo3w:\n",
      "Empty DataFrame\n",
      "Columns: [p_hv_mw, q_hv_mvar, p_mv_mw, q_mv_mvar, p_lv_mw, q_lv_mvar, i_hv_ka, i_mv_ka, i_lv_ka]\n",
      "Index: []\n",
      ">>> est_res_line:\n",
      "           p_from_mw        q_from_mvar           p_to_mw         q_to_mvar  \\\n",
      "0  -1.453e-03(5.26%)  -1.985e-04(1.49%)  1.785e-03(6.94%)  2.432e-04(1.86%)   \n",
      "1  -3.778e-04(2.40%)                  +  5.446e-04(3.63%)                 +   \n",
      "\n",
      "           i_from_ka            i_to_ka  \n",
      "0   4.073e-03(9.17%)   4.072e-03(9.17%)  \n",
      "1  3.396e-03(12.49%)  3.396e-03(12.48%)  \n",
      "Done.\n"
     ]
    }
   ],
   "source": [
    "def safe_perturb_bus12(k):\n",
    "    return h if k in (1,2) else 0\n",
    "\n",
    "print('perturbing by',h,'volts')\n",
    "state_est.main(get_net=pn.simple_four_bus_system,\n",
    "    bus_dvs_from_index=safe_perturb_bus12, disp_chi2=True)"
   ]
  },
  {
   "cell_type": "markdown",

   "metadata": {},
   "source": [
    "### Appendix"
   ]
  },
  {
   "cell_type": "code",
   "execution_count": null,

   "metadata": {},
   "outputs": [
    {
     "name": "stdout",
     "output_type": "stream",
     "text": [
      "r'''\n",
      " Canonical : https://github.com/lduran2/cis4xxx-cyber_physical_systems_intro/blob/master/hw01-state_estimation/state_est.py\n",
      " Simulates the state emulation process in a power grid.\n",
      " By        : Leomar DurÃ¡n <https://github.com/lduran2>\n",
      " When      : 2022-02-13t02:26R\n",
      " For       : CIS 4XXX/Introduction to Cyber-Physical Systems\n",
      " Version   : 1.2.2\n",
      "\n",
      " CHANGELOG :\n",
      "    v1.2.3 - 2022-02-13t02:26R <https://github.com/lduran2>\n",
      "        move `bus_dvs_from_index` to main params\n",
      "\n",
      "    v1.2.2 - 2022-02-13t01:40R <https://github.com/lduran2>\n",
      "        move stardard deviations to main params\n",
      "\n",
      "    v1.2.1 - 2022-02-13t01:31R <https://github.com/lduran2>\n",
      "        indicate no bad data found\n",
      "\n",
      "    v1.2.0 - 2022-02-13t01:28R <https://github.com/lduran2>\n",
      "        restored from v1.1.0, main(get_net)\n",
      "\n",
      "    v1.1.0 - 2022-02-14t23:02R <https://github.com/lduran2>\n",
      "        starting condensing code\n",
      "        printing components and index\n",
      "\n",
      "    v1.0.2 - 2022-02-14t23:02R <https://github.com/lduran2>\n",
      "        default `net_type` added to `main`\n",
      "\n",
      "    v1.0.1 - 2022-02-14t23:02R <https://github.com/lduran2>\n",
      "        `get_net` accepts types of networks `net_type`\n",
      "\n",
      "    v1.0.0 - 2022-02-14t22:49R <https://github.com/lduran2>\n",
      "        moved simultion to main method\n",
      "\n",
      "    v0.0.0 - 2022-01-26 <https://www.kkant.net/>\n",
      "        initial version\n",
      " '''\n",
      "\n",
      "import logging\n",
      "logging.basicConfig(filename='state_est.log', encoding='utf-8', level=logging.DEBUG)\n",
      "from pandapower.estimation import estimate\n",
      "from pandapower.estimation import remove_bad_data\n",
      "from pandapower.estimation import chi2_analysis\n",
      "from pandapower.diagnostic import diagnostic\n",
      "from pandapower.networks import *\n",
      "from math import fabs\n",
      "import pandapower as pp\n",
      "\n",
      "# default type of net to open as get_net in main\n",
      "DEFAULT_NET_GET = case9\n",
      "# default standard deviations\n",
      "DEFAULT_V_STDDEV = 0.025 # pu\n",
      "DEFAULT_PQ_STDDEV = 0.025 # MW/Mvar\n",
      "DEFAULT_I_STDDEV= 0.002 # kA\n",
      "\n",
      "def dv_0v20_on_bus5(k):\n",
      "    return 0.25 if k==5 else 0\n",
      "# end def dv_0v20_on_bus5(k)\n",
      "\n",
      "def main(get_net=DEFAULT_NET_GET, bus_dvs_from_index=dv_0v20_on_bus5,\n",
      "    v_stddev=DEFAULT_V_STDDEV, pq_stddev=DEFAULT_PQ_STDDEV,\n",
      "    i_stddev=DEFAULT_I_STDDEV, disp_chi2=False\n",
      "):\n",
      "    try:\n",
      "        main_not_done(get_net, bus_dvs_from_index,\n",
      "            v_stddev, pq_stddev, i_stddev, disp_chi2\n",
      "        )\n",
      "    finally:\n",
      "        # notify program complete\n",
      "        print('Done.')\n",
      "    # end try main_not_done(net_type)\n",
      "# end def main()\n",
      "\n",
      "def main_not_done(get_net, bus_dvs_from_index,\n",
      "    v_stddev, pq_stddev, i_stddev, disp_chi2\n",
      "):\n",
      "    net = get_net()\n",
      "    pp.runpp(net, calculate_voltage_angles=True, enforce_q_lims=False)\n",
      "\n",
      "    net2 = get_net()\n",
      "\n",
      "    pass_meases_feedback(net, net2, bus_dvs_from_index,\n",
      "        v_stddev, pq_stddev, i_stddev\n",
      "    )\n",
      "    #diagnostic(net2, report_style='detailed')\n",
      "    chi2_test = chi2_analysis(net2)\n",
      "    if chi2_test: \n",
      "        print(\"Bad data found\")\n",
      "        if (disp_chi2):\n",
      "            print('chi2_test on perturbed net2:', chi2_test)\n",
      "        success = remove_bad_data(net2)\n",
      "    else:     \n",
      "        print(\"No bad data found\")\n",
      "        success = False\n",
      "    #success = estimate(net2, calculate_voltage_angles=True, zero_injection='auto', init='flat')\n",
      "    if success:\n",
      "        V, delta = net2.res_bus_est.vm_pu, net2.res_bus_est.va_degree\n",
      "        print(\"Voltages: \")\n",
      "        print(V, sep=' ')\n",
      "        print(\"\\n Voltage angles: \", delta, sep=' ')\n",
      "        print_est_comparison(net, net2, 1, 0.001)\n",
      "# end def main_not_done(get_net, bus_dvs_from_index,\n",
      "#   v_stddev, pq_stddev, i_stddev, disp_chi2\n",
      "# )\n",
      "\n",
      "#################################################################################################################################\n",
      "\n",
      "def print_net_est_res(net):\n",
      "\n",
      "    print(\"\\n########################################################################################################\")\n",
      "\n",
      "    print(\">>> est_res_bus:\")\n",
      "    print(net.res_bus_est[['vm_pu', 'p_mw', 'q_mvar']])\n",
      "    print(\">>> est_res_trafo:\")\n",
      "    print(net.res_trafo_est[['p_hv_mw', 'q_hv_mvar', 'p_lv_mw', 'q_lv_mvar', 'i_hv_ka', 'i_lv_ka']])\n",
      "    print(\">>> est_res_trafo3w:\")\n",
      "    print(net.res_trafo3w_est[['p_hv_mw', 'q_hv_mvar', 'p_mv_mw', 'q_mv_mvar', 'p_lv_mw', 'q_lv_mvar', 'i_hv_ka', 'i_mv_ka', 'i_lv_ka']])\n",
      "    print(\">>> est_res_line:\")\n",
      "    print(net.res_line_est[['p_from_mw', 'q_from_mvar', 'p_to_mw', 'q_to_mvar', 'i_from_ka', 'i_to_ka']])\n",
      "\n",
      "def print_est_comparison(net, net2, alarm_thr, noise_lim):\n",
      "    pd.set_option('display.max_rows', None)\n",
      "    pd.set_option('display.max_columns', None)\n",
      "    pd.set_option('display.width', None)\n",
      "\n",
      "    def diff_stat(ref_val, val, alarm_thr, noise_lim):\n",
      "        try:\n",
      "            abs_diff = ref_val - val\n",
      "        except Exception as ex:\n",
      "            print(ex)\n",
      "\n",
      "        if fabs(ref_val) < noise_lim or fabs(val) < noise_lim:\n",
      "            return '+'\n",
      "        else:\n",
      "            rel_diff = fabs(100 * abs_diff / ref_val)\n",
      "            if rel_diff > alarm_thr:\n",
      "                return '{:.3e}({:.2f}%)'.format(abs_diff, rel_diff)\n",
      "            else:\n",
      "                return '+'\n",
      "\n",
      "    # bus`s\n",
      "    for busIndex in net.bus.index:\n",
      "        net2.res_bus_est.vm_pu[busIndex] = diff_stat(net.res_bus.vm_pu[busIndex], net2.res_bus_est.vm_pu[busIndex], alarm_thr, noise_lim)\n",
      "        net2.res_bus_est.p_mw[busIndex] = diff_stat(net.res_bus.p_mw[busIndex], net2.res_bus_est.p_mw[busIndex], alarm_thr, noise_lim)\n",
      "        net2.res_bus_est.q_mvar[busIndex] = diff_stat(net.res_bus.q_mvar[busIndex], net2.res_bus_est.q_mvar[busIndex], alarm_thr, noise_lim)\n",
      "\n",
      "    # line`s\n",
      "    for lineIndex in net.line.index:\n",
      "        net2.res_line_est.p_from_mw[lineIndex] = diff_stat(net.res_line.p_from_mw[lineIndex], net2.res_line_est.p_from_mw[lineIndex], alarm_thr, noise_lim)\n",
      "        net2.res_line_est.p_to_mw[lineIndex] = diff_stat(net.res_line.p_to_mw[lineIndex], net2.res_line_est.p_to_mw[lineIndex], alarm_thr, noise_lim)\n",
      "\n",
      "        net2.res_line_est.q_from_mvar[lineIndex] = diff_stat(net.res_line.q_from_mvar[lineIndex], net2.res_line_est.q_from_mvar[lineIndex], alarm_thr, noise_lim)\n",
      "        net2.res_line_est.q_to_mvar[lineIndex] = diff_stat(net.res_line.q_to_mvar[lineIndex], net2.res_line_est.q_to_mvar[lineIndex], alarm_thr, noise_lim)\n",
      "\n",
      "        net2.res_line_est.i_from_ka[lineIndex] = diff_stat(net.res_line.i_from_ka[lineIndex], net2.res_line_est.i_from_ka[lineIndex], alarm_thr, noise_lim)\n",
      "        net2.res_line_est.i_to_ka[lineIndex] = diff_stat(net.res_line.i_to_ka[lineIndex], net2.res_line_est.i_to_ka[lineIndex], alarm_thr, noise_lim)\n",
      "\n",
      "    # trafo`s\n",
      "    for trafoIndex in net.trafo.index:\n",
      "        net2.res_trafo_est.p_hv_mw[trafoIndex] = diff_stat(net.res_trafo.p_hv_mw[trafoIndex], net2.res_trafo_est.p_hv_mw[trafoIndex], alarm_thr, noise_lim)\n",
      "        net2.res_trafo_est.p_lv_mw[trafoIndex] = diff_stat(net.res_trafo.p_lv_mw[trafoIndex], net2.res_trafo_est.p_lv_mw[trafoIndex], alarm_thr, noise_lim)\n",
      "\n",
      "        net2.res_trafo_est.q_hv_mvar[trafoIndex] = diff_stat(net.res_trafo.q_hv_mvar[trafoIndex], net2.res_trafo_est.q_hv_mvar[trafoIndex], alarm_thr, noise_lim)\n",
      "        net2.res_trafo_est.q_lv_mvar[trafoIndex] = diff_stat(net.res_trafo.q_lv_mvar[trafoIndex], net2.res_trafo_est.q_lv_mvar[trafoIndex], alarm_thr, noise_lim)\n",
      "\n",
      "        net2.res_trafo_est.i_hv_ka[trafoIndex] = diff_stat(net.res_trafo.i_hv_ka[trafoIndex], net2.res_trafo_est.i_hv_ka[trafoIndex], alarm_thr, noise_lim)\n",
      "        net2.res_trafo_est.i_lv_ka[trafoIndex] = diff_stat(net.res_trafo.i_lv_ka[trafoIndex], net2.res_trafo_est.i_lv_ka[trafoIndex], alarm_thr, noise_lim)\n",
      "\n",
      "    # trafo3w`s\n",
      "    for trafoIndex in net.trafo3w.index:\n",
      "        net2.res_trafo3w_est.p_hv_mw[trafoIndex] = diff_stat(net.res_trafo3w.p_hv_mw[trafoIndex], net2.res_trafo3w_est.p_hv_mw[trafoIndex], alarm_thr, noise_lim)\n",
      "        net2.res_trafo3w_est.p_lv_mw[trafoIndex] = diff_stat(net.res_trafo3w.p_lv_mw[trafoIndex], net2.res_trafo3w_est.p_lv_mw[trafoIndex], alarm_thr, noise_lim)\n",
      "        net2.res_trafo3w_est.p_mv_mw[trafoIndex] = diff_stat(net.res_trafo3w.p_mv_mw[trafoIndex], net2.res_trafo3w_est.p_mv_mw[trafoIndex], alarm_thr, noise_lim)\n",
      "\n",
      "        net2.res_trafo3w_est.q_hv_mvar[trafoIndex] = diff_stat(net.res_trafo3w.q_hv_mvar[trafoIndex], net2.res_trafo3w_est.q_hv_mvar[trafoIndex], alarm_thr, noise_lim)\n",
      "        net2.res_trafo3w_est.q_lv_mvar[trafoIndex] = diff_stat(net.res_trafo3w.q_lv_mvar[trafoIndex], net2.res_trafo3w_est.q_lv_mvar[trafoIndex], alarm_thr, noise_lim)\n",
      "        net2.res_trafo3w_est.q_mv_mvar[trafoIndex] = diff_stat(net.res_trafo3w.q_mv_mvar[trafoIndex], net2.res_trafo3w_est.q_mv_mvar[trafoIndex], alarm_thr, noise_lim)\n",
      "\n",
      "        net2.res_trafo3w_est.i_hv_ka[trafoIndex] = diff_stat(net.res_trafo3w.i_hv_ka[trafoIndex], net2.res_trafo3w_est.i_hv_ka[trafoIndex], alarm_thr, noise_lim)\n",
      "        net2.res_trafo3w_est.i_lv_ka[trafoIndex] = diff_stat(net.res_trafo3w.i_lv_ka[trafoIndex], net2.res_trafo3w_est.i_lv_ka[trafoIndex], alarm_thr, noise_lim)\n",
      "        net2.res_trafo3w_est.i_mv_ka[trafoIndex] = diff_stat(net.res_trafo3w.i_mv_ka[trafoIndex], net2.res_trafo3w_est.i_mv_ka[trafoIndex], alarm_thr, noise_lim)\n",
      "\n",
      "    print_net_est_res(net2)\n",
      "\n",
      "def pass_meases_feedback(net, net2, bus_dvs_from_index, v_stddev, pq_stddev, i_stddev):\n",
      "    r'''\n",
      "     Creates a copy of `net` as `net2` which has the changes to bus\n",
      "     voltages specified by `bus_dvs_from_index`.\n",
      "     '''\n",
      "    # bus`s\n",
      "    # changes in voltage (a.k.a. perturbations)\n",
      "    dvs = tuple(map(bus_dvs_from_index, net.bus.index))\n",
      "    for busIndex in net.bus.index:\n",
      "        vn_pu = net.res_bus.vm_pu[busIndex]\n",
      "        pp.create_measurement(net2, \"v\", \"bus\", vn_pu+dvs[busIndex], v_stddev, element=busIndex)\n",
      "\n",
      "        p_mw = net.res_bus.p_mw[busIndex]\n",
      "        if p_mw != 0:\n",
      "            pp.create_measurement(net2, \"p\", \"bus\", p_mw, pq_stddev, element=busIndex)\n",
      "        q_mvar = net.res_bus.q_mvar[busIndex]\n",
      "        if q_mvar != 0:\n",
      "            pp.create_measurement(net2, \"q\", \"bus\", q_mvar, pq_stddev, element=busIndex)\n",
      "\n",
      "    # line`s\n",
      "    for lineIndex in net.line.index:\n",
      "        p_from_mw = net.res_line.p_from_mw[lineIndex]\n",
      "        pp.create_measurement(net2, \"p\", \"line\", p_from_mw, pq_stddev, element=lineIndex, side=\"from\")\n",
      "        p_to_mw = net.res_line.p_to_mw[lineIndex]\n",
      "        pp.create_measurement(net2, \"p\", \"line\", p_to_mw, pq_stddev, element=lineIndex, side=\"to\")\n",
      "\n",
      "        q_from_mvar = net.res_line.q_from_mvar[lineIndex]\n",
      "        pp.create_measurement(net2, \"q\", \"line\", q_from_mvar, pq_stddev, element=lineIndex, side=\"from\")\n",
      "        q_to_mvar = net.res_line.q_to_mvar[lineIndex]\n",
      "        pp.create_measurement(net2, \"q\", \"line\", q_to_mvar, pq_stddev, element=lineIndex, side=\"to\")\n",
      "\n",
      "        # i_from_ka = net.res_line.i_from_ka[lineIndex]\n",
      "        # pp.create_measurement(net2, \"i\", \"line\", i_from_ka, i_stddev, element=lineIndex, side=\"from\")\n",
      "        # i_to_ka = net.res_line.i_to_ka[lineIndex]\n",
      "        # pp.create_measurement(net2, \"i\", \"line\", i_to_ka, i_stddev, element=lineIndex, side=\"to\")\n",
      "\n",
      "    # trafo`s\n",
      "    for trafoIndex in net.trafo.index:\n",
      "        p_hv_mw = net.res_trafo.p_hv_mw[trafoIndex]\n",
      "        pp.create_measurement(net2, \"p\", \"trafo\", p_hv_mw, pq_stddev, element=trafoIndex, side=\"hv\")\n",
      "        p_lv_mw = net.res_trafo.p_lv_mw[trafoIndex]\n",
      "        pp.create_measurement(net2, \"p\", \"trafo\", p_lv_mw, pq_stddev, element=trafoIndex, side=\"lv\")\n",
      "\n",
      "        q_hv_mvar = net.res_trafo.q_hv_mvar[trafoIndex]\n",
      "        pp.create_measurement(net2, \"q\", \"trafo\", q_hv_mvar, pq_stddev, element=trafoIndex, side=\"hv\")\n",
      "        q_lv_mvar = net.res_trafo.q_lv_mvar[trafoIndex]\n",
      "        pp.create_measurement(net2, \"q\", \"trafo\", q_lv_mvar, pq_stddev, element=trafoIndex, side=\"lv\")\n",
      "\n",
      "        # i_hv_ka = net.res_trafo.i_hv_ka[trafoIndex]\n",
      "        # pp.create_measurement(net2, \"i\", \"trafo\", i_hv_ka, i_stddev, element=trafoIndex, side=\"hv\")\n",
      "        # i_lv_ka = net.res_trafo.i_lv_ka[trafoIndex]\n",
      "        # pp.create_measurement(net2, \"i\", \"trafo\", i_lv_ka, i_stddev, element=trafoIndex, side=\"lv\")\n",
      "\n",
      "    # trafo3w`s\n",
      "    for trafoIndex in net.trafo3w.index:\n",
      "\n",
      "        p_hv_mw = net.res_trafo3w.p_hv_mw[trafoIndex]\n",
      "        pp.create_measurement(net2, \"p\", \"trafo3w\", p_hv_mw, pq_stddev, element=trafoIndex, side=\"hv\")\n",
      "        p_lv_mw = net.res_trafo3w.p_lv_mw[trafoIndex]\n",
      "        pp.create_measurement(net2, \"p\", \"trafo3w\", p_lv_mw, pq_stddev, element=trafoIndex, side=\"lv\")\n",
      "        p_mv_mw = net.res_trafo3w.p_mv_mw[trafoIndex]\n",
      "        pp.create_measurement(net2, \"p\", \"trafo3w\", p_mv_mw, pq_stddev, element=trafoIndex, side=\"mv\")\n",
      "\n",
      "        q_hv_mvar = net.res_trafo3w.q_hv_mvar[trafoIndex]\n",
      "        pp.create_measurement(net2, \"q\", \"trafo3w\", q_hv_mvar, pq_stddev, element=trafoIndex, side=\"hv\")\n",
      "        q_lv_mvar = net.res_trafo3w.q_lv_mvar[trafoIndex]\n",
      "        pp.create_measurement(net2, \"q\", \"trafo3w\", q_lv_mvar, pq_stddev, element=trafoIndex, side=\"lv\")\n",
      "        q_mv_mvar = net.res_trafo3w.q_mv_mvar[trafoIndex]\n",
      "        pp.create_measurement(net2, \"q\", \"trafo3w\", q_mv_mvar, pq_stddev, element=trafoIndex, side=\"mv\")\n",
      "\n",
      "        # i_hv_ka = net.res_trafo3w.i_hv_ka[trafoIndex]\n",
      "        # pp.create_measurement(net2, \"i\", \"trafo3w\", i_hv_ka, i_stddev, element=trafoIndex, side=\"hv\")\n",
      "        # i_lv_ka = net.res_trafo3w.i_lv_ka[trafoIndex]\n",
      "        # pp.create_measurement(net2, \"i\", \"trafo3w\", i_lv_ka, i_stddev, element=trafoIndex, side=\"lv\")\n",
      "        # i_mv_ka = net.res_trafo3w.i_mv_ka[trafoIndex]\n",
      "        # pp.create_measurement(net2, \"i\", \"trafo3w\", i_mv_ka, i_stddev, element=trafoIndex, side=\"mv\")\n",
      "\n",
      "#################################################################################################################################\n",
      "\n",
      "if (__name__==r'__main__'):\n",
      "    main()\n",
      "\n"
     ]
    }
   ],
   "source": [
    "with open(r'state_est.py') as infile:\n",
    "    print(infile.read())\n",
    "# open(r'state_est.py')"
   ]
  }
 ],
 "metadata": {
  "kernelspec": {
   "display_name": "Python 3 (ipykernel)",
   "language": "python",
   "name": "python3"
  },
  "language_info": {
   "codemirror_mode": {
    "name": "ipython",
    "version": 3
   },
   "file_extension": ".py",
   "mimetype": "text/x-python",
   "name": "python",
   "nbconvert_exporter": "python",
   "pygments_lexer": "ipython3",
   "version": "3.9.1"
  }
 },
 "nbformat": 4,
 "nbformat_minor": 5
}
