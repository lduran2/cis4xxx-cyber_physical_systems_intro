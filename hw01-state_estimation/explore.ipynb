{
 "cells": [
  {
   "cell_type": "markdown",

   "metadata": {},
   "source": [
    "Import the necessary modules."
   ]
  },
  {
   "cell_type": "code",
   "execution_count": null,

   "metadata": {
    "scrolled": true
   },
   "outputs": [],
   "source": [
    "import state_est\n",
    "from pandapower.networks import simple_four_bus_system"
   ]
  },
  {
   "cell_type": "markdown",

   "metadata": {},
   "source": [
    "Run using `simple_four_bus_system()`."
   ]
  },
  {
   "cell_type": "code",
   "execution_count": null,

   "metadata": {
    "scrolled": true
   },
   "outputs": [
    {
     "name": "stdout",
     "output_type": "stream",
     "text": [
      "===running <function case9 at 0x000001DA29EAD040> net===\n",
      "===running <function case9 at 0x000001DA29EAD040> net===\n",
      "Bad data found\n",
      "Voltages: \n",
      "0    1.000000\n",
      "1    1.000000\n",
      "2    1.000000\n",
      "3    0.987007\n",
      "4    0.975472\n",
      "5    1.003375\n",
      "6    0.985645\n",
      "7    0.996185\n",
      "8    0.957621\n",
      "Name: vm_pu, dtype: float64\n",
      "\n",
      " Voltage angles:  0    0.000000\n",
      "1    9.668741\n",
      "2    4.771073\n",
      "3   -2.406644\n",
      "4   -4.017264\n",
      "5    1.925602\n",
      "6    0.621545\n",
      "7    3.799120\n",
      "8   -4.349934\n",
      "Name: va_degree, dtype: float64\n",
      "bus\n",
      "Int64Index([0, 1, 2, 3, 4, 5, 6, 7, 8], dtype='int64')\n",
      "line\n",
      "Int64Index([0, 1, 2, 3, 4, 5, 6, 7, 8], dtype='int64')\n",
      "trafo\n",
      "Int64Index([], dtype='int64')\n",
      "trafo3w\n",
      "Int64Index([], dtype='int64')\n",
      "\n",
      "########################################################################################################\n",
      ">>> est_res_bus:\n",
      "  vm_pu p_mw q_mvar\n",
      "0     +    +      +\n",
      "1     +    +      +\n",
      "2     +    +      +\n",
      "3     +    +      +\n",
      "4     +    +      +\n",
      "5     +    +      +\n",
      "6     +    +      +\n",
      "7     +    +      +\n",
      "8     +    +      +\n",
      ">>> est_res_trafo:\n",
      "Empty DataFrame\n",
      "Columns: [p_hv_mw, q_hv_mvar, p_lv_mw, q_lv_mvar, i_hv_ka, i_lv_ka]\n",
      "Index: []\n",
      ">>> est_res_trafo3w:\n",
      "Empty DataFrame\n",
      "Columns: [p_hv_mw, q_hv_mvar, p_mv_mw, q_mv_mvar, p_lv_mw, q_lv_mvar, i_hv_ka, i_mv_ka, i_lv_ka]\n",
      "Index: []\n",
      ">>> est_res_line:\n",
      "  p_from_mw q_from_mvar p_to_mw q_to_mvar i_from_ka i_to_ka\n",
      "0         +           +       +         +         +       +\n",
      "1         +           +       +         +         +       +\n",
      "2         +           +       +         +         +       +\n",
      "3         +           +       +         +         +       +\n",
      "4         +           +       +         +         +       +\n",
      "5         +           +       +         +         +       +\n",
      "6         +           +       +         +         +       +\n",
      "7         +           +       +         +         +       +\n",
      "8         +           +       +         +         +       +\n",
      "Done.\n"
     ]
    }
   ],
   "source": [
    "state_est.main()"
   ]
  }
 ],
 "metadata": {
  "kernelspec": {
   "display_name": "Python 3 (ipykernel)",
   "language": "python",
   "name": "python3"
  },
  "language_info": {
   "codemirror_mode": {
    "name": "ipython",
    "version": 3
   },
   "file_extension": ".py",
   "mimetype": "text/x-python",
   "name": "python",
   "nbconvert_exporter": "python",
   "pygments_lexer": "ipython3",
   "version": "3.9.1"
  }
 },
 "nbformat": 4,
 "nbformat_minor": 5
}
