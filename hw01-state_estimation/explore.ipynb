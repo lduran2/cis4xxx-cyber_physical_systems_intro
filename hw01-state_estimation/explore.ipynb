{
 "cells": [
  {
   "cell_type": "markdown",

   "metadata": {},
   "source": [
    "# CIS CPS Homework 01 Power Grid State Estimation\n",
    "## Introduction to Cyber-Physical Systems\n",
    "## Leomar Duran\n",
    "## 2022&ndash;02&ndash;23"
   ]
  },
  {
   "cell_type": "markdown",

   "metadata": {},
   "source": [
    "First we import the state estimation module updated from Dr. Kant's original and the Pandapower Networks module."
   ]
  },
  {
   "cell_type": "code",
   "execution_count": null,

   "metadata": {
    "scrolled": true
   },
   "outputs": [],
   "source": [
    "import state_est\n",
    "import pandapower.networks as pn # for simple_four_bus_system\n",
    "from scipy.stats import chi2\n",
    "import matplotlib.pyplot as plt  # for plotting\n",
    "import numpy as np               # for statistics\n",
    "import math"
   ]
  },
  {
   "cell_type": "markdown",

   "metadata": {},
   "source": [
    "Test running using the state estimate with all defaults."
   ]
  },
  {
   "cell_type": "code",
   "execution_count": null,

   "metadata": {
    "scrolled": true
   },
   "outputs": [
    {
     "name": "stdout",
     "output_type": "stream",
     "text": [
      "Bad data found\n",
      "Voltages: \n",
      "0    1.000000\n",
      "1    1.000000\n",
      "2    1.000000\n",
      "3    0.987007\n",
      "4    0.975472\n",
      "5    1.003375\n",
      "6    0.985645\n",
      "7    0.996185\n",
      "8    0.957621\n",
      "Name: vm_pu, dtype: float64\n",
      "\n",
      " Voltage angles:  0    0.000000\n",
      "1    9.668741\n",
      "2    4.771073\n",
      "3   -2.406644\n",
      "4   -4.017264\n",
      "5    1.925602\n",
      "6    0.621545\n",
      "7    3.799120\n",
      "8   -4.349934\n",
      "Name: va_degree, dtype: float64\n",
      "\n",
      "########################################################################################################\n",
      ">>> est_res_bus:\n",
      "  vm_pu p_mw q_mvar\n",
      "0     +    +      +\n",
      "1     +    +      +\n",
      "2     +    +      +\n",
      "3     +    +      +\n",
      "4     +    +      +\n",
      "5     +    +      +\n",
      "6     +    +      +\n",
      "7     +    +      +\n",
      "8     +    +      +\n",
      ">>> est_res_trafo:\n",
      "Empty DataFrame\n",
      "Columns: [p_hv_mw, q_hv_mvar, p_lv_mw, q_lv_mvar, i_hv_ka, i_lv_ka]\n",
      "Index: []\n",
      ">>> est_res_trafo3w:\n",
      "Empty DataFrame\n",
      "Columns: [p_hv_mw, q_hv_mvar, p_mv_mw, q_mv_mvar, p_lv_mw, q_lv_mvar, i_hv_ka, i_mv_ka, i_lv_ka]\n",
      "Index: []\n",
      ">>> est_res_line:\n",
      "  p_from_mw q_from_mvar p_to_mw q_to_mvar i_from_ka i_to_ka\n",
      "0         +           +       +         +         +       +\n",
      "1         +           +       +         +         +       +\n",
      "2         +           +       +         +         +       +\n",
      "3         +           +       +         +         +       +\n",
      "4         +           +       +         +         +       +\n",
      "5         +           +       +         +         +       +\n",
      "6         +           +       +         +         +       +\n",
      "7         +           +       +         +         +       +\n",
      "8         +           +       +         +         +       +\n",
      "Done.\n"
     ]
    }
   ],
   "source": [
    "state_est.main()"
   ]
  },
  {
   "cell_type": "markdown",

   "metadata": {},
   "source": [
    "Run using `simple_four_bus_system()` and no perturbation."
   ]
  },
  {
   "cell_type": "code",
   "execution_count": null,

   "metadata": {},
   "outputs": [
    {
     "name": "stdout",
     "output_type": "stream",
     "text": [
      "No bad data found\n",
      "Done.\n"
     ]
    }
   ],
   "source": [
    "def no_perturbation(k):\n",
    "    return 0\n",
    "# def no_perturbation(k)\n",
    "\n",
    "state_est.main(get_net=pn.simple_four_bus_system, bus_dvs_from_index=no_perturbation)"
   ]
  },
  {
   "cell_type": "markdown",

   "metadata": {},
   "source": [
    "Inject bad data into simple four bus system. In order to do this, we write a function that returns a difference of $1\\,\\mathrm{V}$ if pass an index $1$ `lambda k: 1 if k == 1 else 0` and use it to increase the voltage of bus index $V_1$."
   ]
  },
  {
   "cell_type": "markdown",

   "metadata": {},
   "source": [
    "### Part C.)"
   ]
  },
  {
   "cell_type": "code",
   "execution_count": null,

   "metadata": {},
   "outputs": [
    {
     "name": "stdout",
     "output_type": "stream",
     "text": [
      "Bad data found\n",
      "chi2_test on perturbed net2: True\n",
      "Voltages: \n",
      "0    1.000000\n",
      "1    0.996608\n",
      "2    0.937760\n",
      "3    0.902000\n",
      "Name: vm_pu, dtype: float64\n",
      "\n",
      " Voltage angles:  0      0.000000\n",
      "1   -150.208127\n",
      "2   -149.007459\n",
      "3   -148.184087\n",
      "Name: va_degree, dtype: float64\n",
      "\n",
      "########################################################################################################\n",
      ">>> est_res_bus:\n",
      "  vm_pu p_mw q_mvar\n",
      "0     +    +      +\n",
      "1     +    +      +\n",
      "2     +    +      +\n",
      "3     +    +      +\n",
      ">>> est_res_trafo:\n",
      "  p_hv_mw q_hv_mvar p_lv_mw q_lv_mvar i_hv_ka i_lv_ka\n",
      "0       +         +       +         +       +       +\n",
      ">>> est_res_trafo3w:\n",
      "Empty DataFrame\n",
      "Columns: [p_hv_mw, q_hv_mvar, p_mv_mw, q_mv_mvar, p_lv_mw, q_lv_mvar, i_hv_ka, i_mv_ka, i_lv_ka]\n",
      "Index: []\n",
      ">>> est_res_line:\n",
      "  p_from_mw q_from_mvar p_to_mw q_to_mvar i_from_ka i_to_ka\n",
      "0         +           +       +         +         +       +\n",
      "1         +           +       +         +         +       +\n",
      "Done.\n"
     ]
    }
   ],
   "source": [
    "state_est.main(get_net=pn.simple_four_bus_system,\n",
    "    bus_dvs_from_index=lambda k: 1 if k == 1 else 0, disp_chi2=True)"
   ]
  },
  {
   "cell_type": "markdown",

   "metadata": {},
   "source": [
    "As we can see from the returned voltages on bus $V_1$, the extra $1\\,\\mathrm{V}$ we added to make it about $1.96\\,\\mathrm{V}$ was removed so that it matches the other $3$ busses."
   ]
  },
  {
   "cell_type": "markdown",

   "metadata": {},
   "source": [
    "For the $\\chi^2$ test, we have $4$ busses each with $2$ variables (magnitude and phase of power or voltage). However, the last phase is redundant as it is just $\\frac{360}4^\\circ$ more than the previous and $\\frac{360}4^\\circ$ less than the initial. Thus we have $k = (4\\times2) - 1=7$ degrees of freedom. Additionally, we use the default probability of false positive for [`#chi2_analysis`](https://pandapower.readthedocs.io/en/v2.4.0/estimation.html#pandapower.estimation.chi2_analysis), `chi2_prob_false` $q = 0.05$. So $p = 1 - q = 0.95$, and the maximum allowed variance $F(0.95; 7) =$"
   ]
  },
  {
   "cell_type": "code",
   "execution_count": null,

   "metadata": {},
   "outputs": [
    {
     "data": {
      "text/plain": [
       "0.004404710360513543"
      ]
     },
     "execution_count": null,
     "metadata": {},
     "output_type": "execute_result"
    }
   ],
   "source": [
    "chi2.cdf(0.95, df=7)"
   ]
  },
  {
   "cell_type": "markdown",

   "metadata": {},
   "source": [
    "We were expecting to find data matching $\\vec{V} := \\begin{bmatrix}1 & 2 & 1 & 1\\end{bmatrix}^\\intercal$ with an average of $E[V] = 5/4$ and a variance $\\operatorname{Var}(V) = 7/4 - (5/4)^2 = 3/16 = 0.1875$. However, variance $0.1875 > 0.0044 = F(0.95; 7)$. Thus the expected values failed the $\\chi^2$ test and were removed."
   ]
  },
  {
   "cell_type": "markdown",

   "metadata": {},
   "source": [
    "Now, since the extra $1\\,\\mathrm{V}$ was removed from $V_1$, the resulting data was $\\hat{V} := \\begin{bmatrix}1.000000 & 0.996608 & 0.937760 & 0.937760\\end{bmatrix}^\\intercal$ with average $E[\\hat{V}] = 0.968032$ and variance $\\operatorname{Var}(\\hat{V}) = 0.93800378525 - (0.968032)^2 = 0.000917832(226)$, and $0.000917832 \\leq 0.00440471 = F(0.95; 7)$. Thus the resulting values do pass the $\\chi^2$ test.\n",
    "\n",
    "Moreover, for comparison to the expected values, the rates of error are $-0.225574$ for the average and $-0.930034$ for the standard deviation."
   ]
  },
  {
   "cell_type": "code",
   "execution_count": null,

   "metadata": {},
   "outputs": [
    {
     "name": "stdout",
     "output_type": "stream",
     "text": [
      "===expected===\n",
      "E\t 1.25\n",
      "Var\t 0.1875\n",
      "===result===\n",
      "E\t 0.968032\n",
      "Var\t 0.0009178321919999996\n",
      "===rate of error===\n",
      "E\t -0.2255744\n",
      "sigma\t -0.9300349728507163\n"
     ]
    }
   ],
   "source": [
    "expected = (1, 2, 1, 1)\n",
    "result = (1.000000, 0.996608, 0.937760, 0.937760)\n",
    "\n",
    "E_exp = np.mean(expected)\n",
    "E_res = np.mean(result)\n",
    "Var_exp = np.var(expected)\n",
    "Var_res = np.var(result)\n",
    "sigma_exp = math.sqrt(Var_exp)\n",
    "sigma_res = math.sqrt(Var_res)\n",
    "\n",
    "print(r'===expected===')\n",
    "print('E\\t', E_exp)\n",
    "print('Var\\t', Var_exp)\n",
    "print(r'===result===')\n",
    "print('E\\t', E_res)\n",
    "print('Var\\t', Var_res)\n",
    "print(r'===rate of error===')\n",
    "print('E\\t', (E_res - E_exp)/E_exp)\n",
    "print('sigma\\t', (sigma_res - sigma_exp)/sigma_exp)"
   ]
  },
  {
   "cell_type": "code",
   "execution_count": null,

   "metadata": {},
   "outputs": [],
   "source": []
  }
 ],
 "metadata": {
  "kernelspec": {
   "display_name": "Python 3 (ipykernel)",
   "language": "python",
   "name": "python3"
  },
  "language_info": {
   "codemirror_mode": {
    "name": "ipython",
    "version": 3
   },
   "file_extension": ".py",
   "mimetype": "text/x-python",
   "name": "python",
   "nbconvert_exporter": "python",
   "pygments_lexer": "ipython3",
   "version": "3.9.1"
  }
 },
 "nbformat": 4,
 "nbformat_minor": 5
}
